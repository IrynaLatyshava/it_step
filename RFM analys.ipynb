{
 "cells": [
  {
   "cell_type": "code",
   "execution_count": 148,
   "id": "33f80c7f",
   "metadata": {},
   "outputs": [],
   "source": [
    "import numpy as np\n",
    "import pandas as pd\n",
    "%matplotlib inline\n",
    "import matplotlib\n",
    "import matplotlib.pyplot as plt\n",
    "from datetime import date,timedelta"
   ]
  },
  {
   "cell_type": "code",
   "execution_count": 149,
   "id": "8505cc5a",
   "metadata": {},
   "outputs": [],
   "source": [
    "df = pd.read_csv('data.csv.zip', encoding=\"ISO-8859-1\")"
   ]
  },
  {
   "cell_type": "code",
   "execution_count": 150,
   "id": "9d8014cd",
   "metadata": {},
   "outputs": [
    {
     "data": {
      "text/html": [
       "<div>\n",
       "<style scoped>\n",
       "    .dataframe tbody tr th:only-of-type {\n",
       "        vertical-align: middle;\n",
       "    }\n",
       "\n",
       "    .dataframe tbody tr th {\n",
       "        vertical-align: top;\n",
       "    }\n",
       "\n",
       "    .dataframe thead th {\n",
       "        text-align: right;\n",
       "    }\n",
       "</style>\n",
       "<table border=\"1\" class=\"dataframe\">\n",
       "  <thead>\n",
       "    <tr style=\"text-align: right;\">\n",
       "      <th></th>\n",
       "      <th>InvoiceNo</th>\n",
       "      <th>StockCode</th>\n",
       "      <th>Description</th>\n",
       "      <th>Quantity</th>\n",
       "      <th>InvoiceDate</th>\n",
       "      <th>UnitPrice</th>\n",
       "      <th>CustomerID</th>\n",
       "      <th>Country</th>\n",
       "    </tr>\n",
       "  </thead>\n",
       "  <tbody>\n",
       "    <tr>\n",
       "      <th>0</th>\n",
       "      <td>536365</td>\n",
       "      <td>85123A</td>\n",
       "      <td>WHITE HANGING HEART T-LIGHT HOLDER</td>\n",
       "      <td>6</td>\n",
       "      <td>12/1/2010 8:26</td>\n",
       "      <td>2.55</td>\n",
       "      <td>17850.0</td>\n",
       "      <td>United Kingdom</td>\n",
       "    </tr>\n",
       "    <tr>\n",
       "      <th>1</th>\n",
       "      <td>536365</td>\n",
       "      <td>71053</td>\n",
       "      <td>WHITE METAL LANTERN</td>\n",
       "      <td>6</td>\n",
       "      <td>12/1/2010 8:26</td>\n",
       "      <td>3.39</td>\n",
       "      <td>17850.0</td>\n",
       "      <td>United Kingdom</td>\n",
       "    </tr>\n",
       "    <tr>\n",
       "      <th>2</th>\n",
       "      <td>536365</td>\n",
       "      <td>84406B</td>\n",
       "      <td>CREAM CUPID HEARTS COAT HANGER</td>\n",
       "      <td>8</td>\n",
       "      <td>12/1/2010 8:26</td>\n",
       "      <td>2.75</td>\n",
       "      <td>17850.0</td>\n",
       "      <td>United Kingdom</td>\n",
       "    </tr>\n",
       "    <tr>\n",
       "      <th>3</th>\n",
       "      <td>536365</td>\n",
       "      <td>84029G</td>\n",
       "      <td>KNITTED UNION FLAG HOT WATER BOTTLE</td>\n",
       "      <td>6</td>\n",
       "      <td>12/1/2010 8:26</td>\n",
       "      <td>3.39</td>\n",
       "      <td>17850.0</td>\n",
       "      <td>United Kingdom</td>\n",
       "    </tr>\n",
       "    <tr>\n",
       "      <th>4</th>\n",
       "      <td>536365</td>\n",
       "      <td>84029E</td>\n",
       "      <td>RED WOOLLY HOTTIE WHITE HEART.</td>\n",
       "      <td>6</td>\n",
       "      <td>12/1/2010 8:26</td>\n",
       "      <td>3.39</td>\n",
       "      <td>17850.0</td>\n",
       "      <td>United Kingdom</td>\n",
       "    </tr>\n",
       "    <tr>\n",
       "      <th>...</th>\n",
       "      <td>...</td>\n",
       "      <td>...</td>\n",
       "      <td>...</td>\n",
       "      <td>...</td>\n",
       "      <td>...</td>\n",
       "      <td>...</td>\n",
       "      <td>...</td>\n",
       "      <td>...</td>\n",
       "    </tr>\n",
       "    <tr>\n",
       "      <th>541904</th>\n",
       "      <td>581587</td>\n",
       "      <td>22613</td>\n",
       "      <td>PACK OF 20 SPACEBOY NAPKINS</td>\n",
       "      <td>12</td>\n",
       "      <td>12/9/2011 12:50</td>\n",
       "      <td>0.85</td>\n",
       "      <td>12680.0</td>\n",
       "      <td>France</td>\n",
       "    </tr>\n",
       "    <tr>\n",
       "      <th>541905</th>\n",
       "      <td>581587</td>\n",
       "      <td>22899</td>\n",
       "      <td>CHILDREN'S APRON DOLLY GIRL</td>\n",
       "      <td>6</td>\n",
       "      <td>12/9/2011 12:50</td>\n",
       "      <td>2.10</td>\n",
       "      <td>12680.0</td>\n",
       "      <td>France</td>\n",
       "    </tr>\n",
       "    <tr>\n",
       "      <th>541906</th>\n",
       "      <td>581587</td>\n",
       "      <td>23254</td>\n",
       "      <td>CHILDRENS CUTLERY DOLLY GIRL</td>\n",
       "      <td>4</td>\n",
       "      <td>12/9/2011 12:50</td>\n",
       "      <td>4.15</td>\n",
       "      <td>12680.0</td>\n",
       "      <td>France</td>\n",
       "    </tr>\n",
       "    <tr>\n",
       "      <th>541907</th>\n",
       "      <td>581587</td>\n",
       "      <td>23255</td>\n",
       "      <td>CHILDRENS CUTLERY CIRCUS PARADE</td>\n",
       "      <td>4</td>\n",
       "      <td>12/9/2011 12:50</td>\n",
       "      <td>4.15</td>\n",
       "      <td>12680.0</td>\n",
       "      <td>France</td>\n",
       "    </tr>\n",
       "    <tr>\n",
       "      <th>541908</th>\n",
       "      <td>581587</td>\n",
       "      <td>22138</td>\n",
       "      <td>BAKING SET 9 PIECE RETROSPOT</td>\n",
       "      <td>3</td>\n",
       "      <td>12/9/2011 12:50</td>\n",
       "      <td>4.95</td>\n",
       "      <td>12680.0</td>\n",
       "      <td>France</td>\n",
       "    </tr>\n",
       "  </tbody>\n",
       "</table>\n",
       "<p>541909 rows × 8 columns</p>\n",
       "</div>"
      ],
      "text/plain": [
       "       InvoiceNo StockCode                          Description  Quantity  \\\n",
       "0         536365    85123A   WHITE HANGING HEART T-LIGHT HOLDER         6   \n",
       "1         536365     71053                  WHITE METAL LANTERN         6   \n",
       "2         536365    84406B       CREAM CUPID HEARTS COAT HANGER         8   \n",
       "3         536365    84029G  KNITTED UNION FLAG HOT WATER BOTTLE         6   \n",
       "4         536365    84029E       RED WOOLLY HOTTIE WHITE HEART.         6   \n",
       "...          ...       ...                                  ...       ...   \n",
       "541904    581587     22613          PACK OF 20 SPACEBOY NAPKINS        12   \n",
       "541905    581587     22899         CHILDREN'S APRON DOLLY GIRL          6   \n",
       "541906    581587     23254        CHILDRENS CUTLERY DOLLY GIRL          4   \n",
       "541907    581587     23255      CHILDRENS CUTLERY CIRCUS PARADE         4   \n",
       "541908    581587     22138        BAKING SET 9 PIECE RETROSPOT          3   \n",
       "\n",
       "            InvoiceDate  UnitPrice  CustomerID         Country  \n",
       "0        12/1/2010 8:26       2.55     17850.0  United Kingdom  \n",
       "1        12/1/2010 8:26       3.39     17850.0  United Kingdom  \n",
       "2        12/1/2010 8:26       2.75     17850.0  United Kingdom  \n",
       "3        12/1/2010 8:26       3.39     17850.0  United Kingdom  \n",
       "4        12/1/2010 8:26       3.39     17850.0  United Kingdom  \n",
       "...                 ...        ...         ...             ...  \n",
       "541904  12/9/2011 12:50       0.85     12680.0          France  \n",
       "541905  12/9/2011 12:50       2.10     12680.0          France  \n",
       "541906  12/9/2011 12:50       4.15     12680.0          France  \n",
       "541907  12/9/2011 12:50       4.15     12680.0          France  \n",
       "541908  12/9/2011 12:50       4.95     12680.0          France  \n",
       "\n",
       "[541909 rows x 8 columns]"
      ]
     },
     "execution_count": 150,
     "metadata": {},
     "output_type": "execute_result"
    }
   ],
   "source": [
    "df"
   ]
  },
  {
   "cell_type": "code",
   "execution_count": 147,
   "id": "9fd4d600",
   "metadata": {},
   "outputs": [
    {
     "data": {
      "text/plain": [
       "United Kingdom          485123\n",
       "Germany                   9040\n",
       "France                    8407\n",
       "EIRE                      7890\n",
       "Spain                     2484\n",
       "Netherlands               2359\n",
       "Belgium                   2031\n",
       "Switzerland               1966\n",
       "Portugal                  1501\n",
       "Australia                 1182\n",
       "Norway                    1071\n",
       "Italy                      758\n",
       "Channel Islands            748\n",
       "Finland                    685\n",
       "Cyprus                     614\n",
       "Sweden                     451\n",
       "Unspecified                446\n",
       "Austria                    398\n",
       "Denmark                    380\n",
       "Poland                     330\n",
       "Japan                      321\n",
       "Israel                     295\n",
       "Hong Kong                  284\n",
       "Singapore                  222\n",
       "Iceland                    182\n",
       "USA                        179\n",
       "Canada                     151\n",
       "Greece                     145\n",
       "Malta                      112\n",
       "United Arab Emirates        68\n",
       "European Community          60\n",
       "RSA                         57\n",
       "Lebanon                     45\n",
       "Lithuania                   35\n",
       "Brazil                      32\n",
       "Czech Republic              25\n",
       "Bahrain                     18\n",
       "Saudi Arabia                 9\n",
       "Name: Country, dtype: int64"
      ]
     },
     "execution_count": 147,
     "metadata": {},
     "output_type": "execute_result"
    }
   ],
   "source": [
    "df.Country.value_counts()"
   ]
  },
  {
   "cell_type": "code",
   "execution_count": 59,
   "id": "4992946a",
   "metadata": {},
   "outputs": [
    {
     "data": {
      "text/plain": [
       "0         17850.0\n",
       "1         17850.0\n",
       "2         17850.0\n",
       "3         17850.0\n",
       "4         17850.0\n",
       "           ...   \n",
       "541904    12680.0\n",
       "541905    12680.0\n",
       "541906    12680.0\n",
       "541907    12680.0\n",
       "541908    12680.0\n",
       "Name: CustomerID, Length: 541909, dtype: float64"
      ]
     },
     "execution_count": 59,
     "metadata": {},
     "output_type": "execute_result"
    }
   ],
   "source": [
    "df.CustomerID.fillna(0)"
   ]
  },
  {
   "cell_type": "code",
   "execution_count": null,
   "id": "ae113626",
   "metadata": {},
   "outputs": [],
   "source": [
    "df.CustomerID.fillna(0)"
   ]
  },
  {
   "cell_type": "code",
   "execution_count": null,
   "id": "546b429d",
   "metadata": {},
   "outputs": [],
   "source": [
    "df.CustomerID.fillna(0)"
   ]
  },
  {
   "cell_type": "code",
   "execution_count": 63,
   "id": "e0e70031",
   "metadata": {},
   "outputs": [],
   "source": [
    "df = df.query('Quantity > 0')"
   ]
  },
  {
   "cell_type": "code",
   "execution_count": 54,
   "id": "a531c1f7",
   "metadata": {},
   "outputs": [
    {
     "data": {
      "text/plain": [
       "<AxesSubplot:>"
      ]
     },
     "execution_count": 54,
     "metadata": {},
     "output_type": "execute_result"
    },
    {
     "data": {
      "image/png": "[encoded data removed]",
      "text/plain": [
       "<Figure size 432x288 with 1 Axes>"
      ]
     },
     "metadata": {
      "needs_background": "light"
     },
     "output_type": "display_data"
    }
   ],
   "source": [
    "df.UnitPrice.plot()"
   ]
  },
  {
   "cell_type": "code",
   "execution_count": 55,
   "id": "9e750b51",
   "metadata": {},
   "outputs": [
    {
     "data": {
      "text/plain": [
       "count    397881.000000\n",
       "mean          3.096038\n",
       "std          17.938862\n",
       "min           0.001000\n",
       "25%           1.250000\n",
       "50%           1.950000\n",
       "75%           3.750000\n",
       "max        4161.060000\n",
       "Name: UnitPrice, dtype: float64"
      ]
     },
     "execution_count": 55,
     "metadata": {},
     "output_type": "execute_result"
    }
   ],
   "source": [
    "df.UnitPrice.describe()"
   ]
  },
  {
   "cell_type": "code",
   "execution_count": 17,
   "id": "69dc3ac1",
   "metadata": {},
   "outputs": [
    {
     "data": {
      "text/plain": [
       "4372"
      ]
     },
     "execution_count": 17,
     "metadata": {},
     "output_type": "execute_result"
    }
   ],
   "source": [
    "df['CustomerID'].nunique()"
   ]
  },
  {
   "cell_type": "code",
   "execution_count": 18,
   "id": "0851b96d",
   "metadata": {},
   "outputs": [
    {
     "data": {
      "text/plain": [
       "InvoiceNo       object\n",
       "StockCode       object\n",
       "Description     object\n",
       "Quantity         int64\n",
       "InvoiceDate     object\n",
       "UnitPrice      float64\n",
       "CustomerID     float64\n",
       "Country         object\n",
       "dtype: object"
      ]
     },
     "execution_count": 18,
     "metadata": {},
     "output_type": "execute_result"
    }
   ],
   "source": [
    "df.dtypes"
   ]
  },
  {
   "cell_type": "code",
   "execution_count": 65,
   "id": "982e4447",
   "metadata": {},
   "outputs": [],
   "source": [
    "df['InvoiceDate'] = pd.to_datetime(df['InvoiceDate']).dt.date"
   ]
  },
  {
   "cell_type": "code",
   "execution_count": 66,
   "id": "5c8c9c73",
   "metadata": {},
   "outputs": [],
   "source": [
    "df['total_sum'] = df.UnitPrice*df.Quantity"
   ]
  },
  {
   "cell_type": "code",
   "execution_count": 32,
   "id": "391c51b0",
   "metadata": {},
   "outputs": [
    {
     "data": {
      "text/plain": [
       "-11062.06"
      ]
     },
     "execution_count": 32,
     "metadata": {},
     "output_type": "execute_result"
    }
   ],
   "source": [
    "df.UnitPrice.min()"
   ]
  },
  {
   "cell_type": "code",
   "execution_count": 67,
   "id": "0525eb41",
   "metadata": {},
   "outputs": [],
   "source": [
    "last_date = df['InvoiceDate'].max()\n",
    "rfmTable = df.reset_index().groupby('CustomerID').agg({'InvoiceDate': lambda x: (last_date - x.max()).days,\n",
    "                                                 'InvoiceNo': lambda x: len(x), \n",
    "                                                 'total_sum': lambda x: x.sum()})\n",
    "rfmTable.rename(columns={'InvoiceDate': 'recency', \n",
    "                          'InvoiceNo': 'frequency', \n",
    "                          'total_sum': 'monetary_value'}, inplace=True)"
   ]
  },
  {
   "cell_type": "code",
   "execution_count": 68,
   "id": "a3179ec1",
   "metadata": {},
   "outputs": [],
   "source": [
    "quantiles = rfmTable.quantile(q=[0.20, 0.40, 0.60, 0.80])\n",
    "quantiles = quantiles.to_dict()\n",
    "segmented_rfm = rfmTable"
   ]
  },
  {
   "cell_type": "code",
   "execution_count": 69,
   "id": "cc140bca",
   "metadata": {},
   "outputs": [
    {
     "name": "stdout",
     "output_type": "stream",
     "text": [
      "            recency  frequency  monetary_value  r_quartile  f_quartile  \\\n",
      "CustomerID                                                               \n",
      "12346.0         325          1        77183.60           5           1   \n",
      "12347.0           2        182         4310.00           1           5   \n",
      "12348.0          75         31         1797.24           4           3   \n",
      "12349.0          18         73         1757.55           2           4   \n",
      "12350.0         310         17          334.40           5           2   \n",
      "\n",
      "            m_quartile RFMScore  \n",
      "CustomerID                       \n",
      "12346.0              5      515  \n",
      "12347.0              5      155  \n",
      "12348.0              4      434  \n",
      "12349.0              4      244  \n",
      "12350.0              2      522  \n"
     ]
    }
   ],
   "source": [
    "def RScore(x,p,d):\n",
    "     if x <= d[p][0.20]:\n",
    "         return 1\n",
    "     elif x <= d[p][0.40]:\n",
    "         return 2\n",
    "     elif x <= d[p][0.60]: \n",
    "         return 3\n",
    "     elif x<=d[p][0.80]:\n",
    "         return 4\n",
    "     else:\n",
    "         return 5\n",
    "\n",
    "segmented_rfm['r_quartile'] = segmented_rfm['recency'].apply(RScore, args=('recency',quantiles,))\n",
    "segmented_rfm['f_quartile'] = segmented_rfm['frequency'].apply(RScore, args=('frequency',quantiles,))\n",
    "segmented_rfm['m_quartile'] = segmented_rfm['monetary_value'].apply(RScore, args=('monetary_value',quantiles,))\n",
    "segmented_rfm['RFMScore'] = segmented_rfm.r_quartile.map(str) + segmented_rfm.f_quartile.map(str) + segmented_rfm.m_quartile.map(str)\n",
    "print(segmented_rfm.head())"
   ]
  },
  {
   "cell_type": "code",
   "execution_count": 70,
   "id": "27a410e9",
   "metadata": {},
   "outputs": [
    {
     "data": {
      "image/png": "[encoded data removed]",
      "text/plain": [
       "<Figure size 1440x1280 with 1 Axes>"
      ]
     },
     "metadata": {},
     "output_type": "display_data"
    }
   ],
   "source": [
    "fig=plt.figure(figsize=(18, 16), dpi= 80, facecolor='w', edgecolor='k')\n",
    "segmented_rfm.groupby('RFMScore').agg('recency').mean().plot(kind='bar', colormap='Blues_r')\n",
    "plt.show()"
   ]
  },
  {
   "cell_type": "markdown",
   "id": "415d0a86",
   "metadata": {},
   "source": [
    "Цель RFM анализа сформировать сегменты и в зависимости от сегмента воздействовать на них определенным образом. Например: предложить бонус, льготу, отправить push или email уведомление. Важно делать это таргетировано.\n",
    "\n",
    "Эффект от использования RFM анализа может быть следующим: удержание клиентов, повышение дохода, повышение лояльность клиентов.\n",
    "\n",
    "Примеры интерпретации сегментов RFM анализа:\n",
    "\n",
    "R=5, F=5, M=5 — платят чаcто, много и недавно. Самые лояльным и активные пользователи. R=1, F=1, M=1 — платят мало, редко и давно. Скорее всего потерянные клиенты. Возможно не стоит предпринять действия по их возврату, если цена привлечения выше ожидаемой прибыли. R=1/2, F=4/5, M=4/5 — лояльные пользователи на грани ухода. Предлагаем им бонус, скидку и пытаемся их вернуть. R=4/5, F=1, M=1/2/3/4/5 — пользователи недавно совершили платеж. Пробуем их стимулировать покупать еще."
   ]
  },
  {
   "cell_type": "code",
   "execution_count": null,
   "id": "1de2b99f",
   "metadata": {},
   "outputs": [],
   "source": []
  },
  {
   "cell_type": "code",
   "execution_count": 129,
   "id": "2b05e7f0",
   "metadata": {},
   "outputs": [],
   "source": [
    "df_abc = df.groupby('CustomerID', as_index = False).agg({'total_sum': 'sum'}).sort_values('total_sum', ascending = False)"
   ]
  },
  {
   "cell_type": "code",
   "execution_count": 130,
   "id": "4e5c0be7",
   "metadata": {},
   "outputs": [],
   "source": [
    "df_xyz = df.groupby('CustomerID', as_index = False).agg({'Quantity': 'sum'}).sort_values('Quantity', ascending = False)"
   ]
  },
  {
   "cell_type": "code",
   "execution_count": 131,
   "id": "256e53da",
   "metadata": {},
   "outputs": [
    {
     "data": {
      "text/plain": [
       "8911407.904"
      ]
     },
     "execution_count": 131,
     "metadata": {},
     "output_type": "execute_result"
    }
   ],
   "source": [
    "total_sum = df_abc.total_sum.sum()\n",
    "total_sum"
   ]
  },
  {
   "cell_type": "code",
   "execution_count": 132,
   "id": "5a973239",
   "metadata": {},
   "outputs": [],
   "source": [
    "total_sum_quan = df_xyz.Quantity.sum() "
   ]
  },
  {
   "cell_type": "code",
   "execution_count": 133,
   "id": "fefac61b",
   "metadata": {},
   "outputs": [],
   "source": [
    "df_abc['share_of_total']=df_abc.total_sum/total_sum*100"
   ]
  },
  {
   "cell_type": "code",
   "execution_count": 134,
   "id": "aca7383e",
   "metadata": {},
   "outputs": [],
   "source": [
    "df_xyz['share_of_total_2']=df_xyz.Quantity/total_sum_quan*100"
   ]
  },
  {
   "cell_type": "code",
   "execution_count": 135,
   "id": "c6d689b1",
   "metadata": {},
   "outputs": [
    {
     "data": {
      "text/html": [
       "<div>\n",
       "<style scoped>\n",
       "    .dataframe tbody tr th:only-of-type {\n",
       "        vertical-align: middle;\n",
       "    }\n",
       "\n",
       "    .dataframe tbody tr th {\n",
       "        vertical-align: top;\n",
       "    }\n",
       "\n",
       "    .dataframe thead th {\n",
       "        text-align: right;\n",
       "    }\n",
       "</style>\n",
       "<table border=\"1\" class=\"dataframe\">\n",
       "  <thead>\n",
       "    <tr style=\"text-align: right;\">\n",
       "      <th></th>\n",
       "      <th>CustomerID</th>\n",
       "      <th>total_sum</th>\n",
       "      <th>share_of_total</th>\n",
       "    </tr>\n",
       "  </thead>\n",
       "  <tbody>\n",
       "    <tr>\n",
       "      <th>1689</th>\n",
       "      <td>14646.0</td>\n",
       "      <td>280206.02</td>\n",
       "      <td>3.144352</td>\n",
       "    </tr>\n",
       "    <tr>\n",
       "      <th>4201</th>\n",
       "      <td>18102.0</td>\n",
       "      <td>259657.30</td>\n",
       "      <td>2.913763</td>\n",
       "    </tr>\n",
       "    <tr>\n",
       "      <th>3728</th>\n",
       "      <td>17450.0</td>\n",
       "      <td>194550.79</td>\n",
       "      <td>2.183166</td>\n",
       "    </tr>\n",
       "    <tr>\n",
       "      <th>3008</th>\n",
       "      <td>16446.0</td>\n",
       "      <td>168472.50</td>\n",
       "      <td>1.890526</td>\n",
       "    </tr>\n",
       "    <tr>\n",
       "      <th>1879</th>\n",
       "      <td>14911.0</td>\n",
       "      <td>143825.06</td>\n",
       "      <td>1.613943</td>\n",
       "    </tr>\n",
       "    <tr>\n",
       "      <th>...</th>\n",
       "      <td>...</td>\n",
       "      <td>...</td>\n",
       "      <td>...</td>\n",
       "    </tr>\n",
       "    <tr>\n",
       "      <th>3323</th>\n",
       "      <td>16878.0</td>\n",
       "      <td>13.30</td>\n",
       "      <td>0.000149</td>\n",
       "    </tr>\n",
       "    <tr>\n",
       "      <th>4098</th>\n",
       "      <td>17956.0</td>\n",
       "      <td>12.75</td>\n",
       "      <td>0.000143</td>\n",
       "    </tr>\n",
       "    <tr>\n",
       "      <th>3014</th>\n",
       "      <td>16454.0</td>\n",
       "      <td>6.90</td>\n",
       "      <td>0.000077</td>\n",
       "    </tr>\n",
       "    <tr>\n",
       "      <th>1793</th>\n",
       "      <td>14792.0</td>\n",
       "      <td>6.20</td>\n",
       "      <td>0.000070</td>\n",
       "    </tr>\n",
       "    <tr>\n",
       "      <th>3217</th>\n",
       "      <td>16738.0</td>\n",
       "      <td>3.75</td>\n",
       "      <td>0.000042</td>\n",
       "    </tr>\n",
       "  </tbody>\n",
       "</table>\n",
       "<p>4338 rows × 3 columns</p>\n",
       "</div>"
      ],
      "text/plain": [
       "      CustomerID  total_sum  share_of_total\n",
       "1689     14646.0  280206.02        3.144352\n",
       "4201     18102.0  259657.30        2.913763\n",
       "3728     17450.0  194550.79        2.183166\n",
       "3008     16446.0  168472.50        1.890526\n",
       "1879     14911.0  143825.06        1.613943\n",
       "...          ...        ...             ...\n",
       "3323     16878.0      13.30        0.000149\n",
       "4098     17956.0      12.75        0.000143\n",
       "3014     16454.0       6.90        0.000077\n",
       "1793     14792.0       6.20        0.000070\n",
       "3217     16738.0       3.75        0.000042\n",
       "\n",
       "[4338 rows x 3 columns]"
      ]
     },
     "execution_count": 135,
     "metadata": {},
     "output_type": "execute_result"
    }
   ],
   "source": [
    "df_abc"
   ]
  },
  {
   "cell_type": "code",
   "execution_count": 136,
   "id": "f7ace135",
   "metadata": {},
   "outputs": [],
   "source": [
    "df_abc['cum_sum']=df_abc.share_of_total.cumsum()"
   ]
  },
  {
   "cell_type": "code",
   "execution_count": 140,
   "id": "fa2697a8",
   "metadata": {},
   "outputs": [],
   "source": [
    "df_xyz['cum_sum']=df_xyz.share_of_total_2.cumsum()"
   ]
  },
  {
   "cell_type": "code",
   "execution_count": 137,
   "id": "6f54b182",
   "metadata": {},
   "outputs": [
    {
     "data": {
      "text/plain": [
       "100.00000000000001"
      ]
     },
     "execution_count": 137,
     "metadata": {},
     "output_type": "execute_result"
    }
   ],
   "source": [
    "df_abc.share_of_total.sum()"
   ]
  },
  {
   "cell_type": "code",
   "execution_count": 138,
   "id": "feef3e4b",
   "metadata": {},
   "outputs": [
    {
     "data": {
      "text/html": [
       "<div>\n",
       "<style scoped>\n",
       "    .dataframe tbody tr th:only-of-type {\n",
       "        vertical-align: middle;\n",
       "    }\n",
       "\n",
       "    .dataframe tbody tr th {\n",
       "        vertical-align: top;\n",
       "    }\n",
       "\n",
       "    .dataframe thead th {\n",
       "        text-align: right;\n",
       "    }\n",
       "</style>\n",
       "<table border=\"1\" class=\"dataframe\">\n",
       "  <thead>\n",
       "    <tr style=\"text-align: right;\">\n",
       "      <th></th>\n",
       "      <th>CustomerID</th>\n",
       "      <th>total_sum</th>\n",
       "      <th>share_of_total</th>\n",
       "      <th>cum_sum</th>\n",
       "    </tr>\n",
       "  </thead>\n",
       "  <tbody>\n",
       "    <tr>\n",
       "      <th>1689</th>\n",
       "      <td>14646.0</td>\n",
       "      <td>280206.02</td>\n",
       "      <td>3.144352</td>\n",
       "      <td>3.144352</td>\n",
       "    </tr>\n",
       "    <tr>\n",
       "      <th>4201</th>\n",
       "      <td>18102.0</td>\n",
       "      <td>259657.30</td>\n",
       "      <td>2.913763</td>\n",
       "      <td>6.058115</td>\n",
       "    </tr>\n",
       "    <tr>\n",
       "      <th>3728</th>\n",
       "      <td>17450.0</td>\n",
       "      <td>194550.79</td>\n",
       "      <td>2.183166</td>\n",
       "      <td>8.241280</td>\n",
       "    </tr>\n",
       "    <tr>\n",
       "      <th>3008</th>\n",
       "      <td>16446.0</td>\n",
       "      <td>168472.50</td>\n",
       "      <td>1.890526</td>\n",
       "      <td>10.131807</td>\n",
       "    </tr>\n",
       "    <tr>\n",
       "      <th>1879</th>\n",
       "      <td>14911.0</td>\n",
       "      <td>143825.06</td>\n",
       "      <td>1.613943</td>\n",
       "      <td>11.745750</td>\n",
       "    </tr>\n",
       "    <tr>\n",
       "      <th>...</th>\n",
       "      <td>...</td>\n",
       "      <td>...</td>\n",
       "      <td>...</td>\n",
       "      <td>...</td>\n",
       "    </tr>\n",
       "    <tr>\n",
       "      <th>3323</th>\n",
       "      <td>16878.0</td>\n",
       "      <td>13.30</td>\n",
       "      <td>0.000149</td>\n",
       "      <td>99.999668</td>\n",
       "    </tr>\n",
       "    <tr>\n",
       "      <th>4098</th>\n",
       "      <td>17956.0</td>\n",
       "      <td>12.75</td>\n",
       "      <td>0.000143</td>\n",
       "      <td>99.999811</td>\n",
       "    </tr>\n",
       "    <tr>\n",
       "      <th>3014</th>\n",
       "      <td>16454.0</td>\n",
       "      <td>6.90</td>\n",
       "      <td>0.000077</td>\n",
       "      <td>99.999888</td>\n",
       "    </tr>\n",
       "    <tr>\n",
       "      <th>1793</th>\n",
       "      <td>14792.0</td>\n",
       "      <td>6.20</td>\n",
       "      <td>0.000070</td>\n",
       "      <td>99.999958</td>\n",
       "    </tr>\n",
       "    <tr>\n",
       "      <th>3217</th>\n",
       "      <td>16738.0</td>\n",
       "      <td>3.75</td>\n",
       "      <td>0.000042</td>\n",
       "      <td>100.000000</td>\n",
       "    </tr>\n",
       "  </tbody>\n",
       "</table>\n",
       "<p>4338 rows × 4 columns</p>\n",
       "</div>"
      ],
      "text/plain": [
       "      CustomerID  total_sum  share_of_total     cum_sum\n",
       "1689     14646.0  280206.02        3.144352    3.144352\n",
       "4201     18102.0  259657.30        2.913763    6.058115\n",
       "3728     17450.0  194550.79        2.183166    8.241280\n",
       "3008     16446.0  168472.50        1.890526   10.131807\n",
       "1879     14911.0  143825.06        1.613943   11.745750\n",
       "...          ...        ...             ...         ...\n",
       "3323     16878.0      13.30        0.000149   99.999668\n",
       "4098     17956.0      12.75        0.000143   99.999811\n",
       "3014     16454.0       6.90        0.000077   99.999888\n",
       "1793     14792.0       6.20        0.000070   99.999958\n",
       "3217     16738.0       3.75        0.000042  100.000000\n",
       "\n",
       "[4338 rows x 4 columns]"
      ]
     },
     "execution_count": 138,
     "metadata": {},
     "output_type": "execute_result"
    }
   ],
   "source": [
    "df_abc"
   ]
  },
  {
   "cell_type": "code",
   "execution_count": null,
   "id": "06338041",
   "metadata": {},
   "outputs": [],
   "source": []
  },
  {
   "cell_type": "code",
   "execution_count": 141,
   "id": "8151a7f9",
   "metadata": {},
   "outputs": [],
   "source": [
    "df_abc['abc'] = np.where(df_abc['cum_sum']<80, 'A', np.where((df_abc['cum_sum']<95), 'B', 'C'))"
   ]
  },
  {
   "cell_type": "code",
   "execution_count": 142,
   "id": "ec86485f",
   "metadata": {},
   "outputs": [
    {
     "data": {
      "text/html": [
       "<div>\n",
       "<style scoped>\n",
       "    .dataframe tbody tr th:only-of-type {\n",
       "        vertical-align: middle;\n",
       "    }\n",
       "\n",
       "    .dataframe tbody tr th {\n",
       "        vertical-align: top;\n",
       "    }\n",
       "\n",
       "    .dataframe thead th {\n",
       "        text-align: right;\n",
       "    }\n",
       "</style>\n",
       "<table border=\"1\" class=\"dataframe\">\n",
       "  <thead>\n",
       "    <tr style=\"text-align: right;\">\n",
       "      <th></th>\n",
       "      <th>CustomerID</th>\n",
       "      <th>total_sum</th>\n",
       "      <th>share_of_total</th>\n",
       "      <th>cum_sum</th>\n",
       "      <th>abc</th>\n",
       "    </tr>\n",
       "  </thead>\n",
       "  <tbody>\n",
       "    <tr>\n",
       "      <th>1689</th>\n",
       "      <td>14646.0</td>\n",
       "      <td>280206.02</td>\n",
       "      <td>3.144352</td>\n",
       "      <td>3.144352</td>\n",
       "      <td>A</td>\n",
       "    </tr>\n",
       "    <tr>\n",
       "      <th>4201</th>\n",
       "      <td>18102.0</td>\n",
       "      <td>259657.30</td>\n",
       "      <td>2.913763</td>\n",
       "      <td>6.058115</td>\n",
       "      <td>A</td>\n",
       "    </tr>\n",
       "    <tr>\n",
       "      <th>3728</th>\n",
       "      <td>17450.0</td>\n",
       "      <td>194550.79</td>\n",
       "      <td>2.183166</td>\n",
       "      <td>8.241280</td>\n",
       "      <td>A</td>\n",
       "    </tr>\n",
       "    <tr>\n",
       "      <th>3008</th>\n",
       "      <td>16446.0</td>\n",
       "      <td>168472.50</td>\n",
       "      <td>1.890526</td>\n",
       "      <td>10.131807</td>\n",
       "      <td>A</td>\n",
       "    </tr>\n",
       "    <tr>\n",
       "      <th>1879</th>\n",
       "      <td>14911.0</td>\n",
       "      <td>143825.06</td>\n",
       "      <td>1.613943</td>\n",
       "      <td>11.745750</td>\n",
       "      <td>A</td>\n",
       "    </tr>\n",
       "    <tr>\n",
       "      <th>...</th>\n",
       "      <td>...</td>\n",
       "      <td>...</td>\n",
       "      <td>...</td>\n",
       "      <td>...</td>\n",
       "      <td>...</td>\n",
       "    </tr>\n",
       "    <tr>\n",
       "      <th>3323</th>\n",
       "      <td>16878.0</td>\n",
       "      <td>13.30</td>\n",
       "      <td>0.000149</td>\n",
       "      <td>99.999668</td>\n",
       "      <td>C</td>\n",
       "    </tr>\n",
       "    <tr>\n",
       "      <th>4098</th>\n",
       "      <td>17956.0</td>\n",
       "      <td>12.75</td>\n",
       "      <td>0.000143</td>\n",
       "      <td>99.999811</td>\n",
       "      <td>C</td>\n",
       "    </tr>\n",
       "    <tr>\n",
       "      <th>3014</th>\n",
       "      <td>16454.0</td>\n",
       "      <td>6.90</td>\n",
       "      <td>0.000077</td>\n",
       "      <td>99.999888</td>\n",
       "      <td>C</td>\n",
       "    </tr>\n",
       "    <tr>\n",
       "      <th>1793</th>\n",
       "      <td>14792.0</td>\n",
       "      <td>6.20</td>\n",
       "      <td>0.000070</td>\n",
       "      <td>99.999958</td>\n",
       "      <td>C</td>\n",
       "    </tr>\n",
       "    <tr>\n",
       "      <th>3217</th>\n",
       "      <td>16738.0</td>\n",
       "      <td>3.75</td>\n",
       "      <td>0.000042</td>\n",
       "      <td>100.000000</td>\n",
       "      <td>C</td>\n",
       "    </tr>\n",
       "  </tbody>\n",
       "</table>\n",
       "<p>4338 rows × 5 columns</p>\n",
       "</div>"
      ],
      "text/plain": [
       "      CustomerID  total_sum  share_of_total     cum_sum abc\n",
       "1689     14646.0  280206.02        3.144352    3.144352   A\n",
       "4201     18102.0  259657.30        2.913763    6.058115   A\n",
       "3728     17450.0  194550.79        2.183166    8.241280   A\n",
       "3008     16446.0  168472.50        1.890526   10.131807   A\n",
       "1879     14911.0  143825.06        1.613943   11.745750   A\n",
       "...          ...        ...             ...         ...  ..\n",
       "3323     16878.0      13.30        0.000149   99.999668   C\n",
       "4098     17956.0      12.75        0.000143   99.999811   C\n",
       "3014     16454.0       6.90        0.000077   99.999888   C\n",
       "1793     14792.0       6.20        0.000070   99.999958   C\n",
       "3217     16738.0       3.75        0.000042  100.000000   C\n",
       "\n",
       "[4338 rows x 5 columns]"
      ]
     },
     "execution_count": 142,
     "metadata": {},
     "output_type": "execute_result"
    }
   ],
   "source": [
    "df_abc"
   ]
  },
  {
   "cell_type": "code",
   "execution_count": 143,
   "id": "ca7b91ac",
   "metadata": {},
   "outputs": [
    {
     "data": {
      "text/html": [
       "<div>\n",
       "<style scoped>\n",
       "    .dataframe tbody tr th:only-of-type {\n",
       "        vertical-align: middle;\n",
       "    }\n",
       "\n",
       "    .dataframe tbody tr th {\n",
       "        vertical-align: top;\n",
       "    }\n",
       "\n",
       "    .dataframe thead th {\n",
       "        text-align: right;\n",
       "    }\n",
       "</style>\n",
       "<table border=\"1\" class=\"dataframe\">\n",
       "  <thead>\n",
       "    <tr style=\"text-align: right;\">\n",
       "      <th></th>\n",
       "      <th>CustomerID</th>\n",
       "      <th>Quantity</th>\n",
       "      <th>share_of_total_2</th>\n",
       "      <th>cum_sum</th>\n",
       "    </tr>\n",
       "  </thead>\n",
       "  <tbody>\n",
       "    <tr>\n",
       "      <th>1689</th>\n",
       "      <td>14646.0</td>\n",
       "      <td>196915</td>\n",
       "      <td>3.810413</td>\n",
       "      <td>3.810413</td>\n",
       "    </tr>\n",
       "    <tr>\n",
       "      <th>3008</th>\n",
       "      <td>16446.0</td>\n",
       "      <td>80997</td>\n",
       "      <td>1.567336</td>\n",
       "      <td>5.377750</td>\n",
       "    </tr>\n",
       "    <tr>\n",
       "      <th>1879</th>\n",
       "      <td>14911.0</td>\n",
       "      <td>80265</td>\n",
       "      <td>1.553172</td>\n",
       "      <td>6.930922</td>\n",
       "    </tr>\n",
       "    <tr>\n",
       "      <th>55</th>\n",
       "      <td>12415.0</td>\n",
       "      <td>77374</td>\n",
       "      <td>1.497229</td>\n",
       "      <td>8.428151</td>\n",
       "    </tr>\n",
       "    <tr>\n",
       "      <th>0</th>\n",
       "      <td>12346.0</td>\n",
       "      <td>74215</td>\n",
       "      <td>1.436101</td>\n",
       "      <td>9.864252</td>\n",
       "    </tr>\n",
       "    <tr>\n",
       "      <th>...</th>\n",
       "      <td>...</td>\n",
       "      <td>...</td>\n",
       "      <td>...</td>\n",
       "      <td>...</td>\n",
       "    </tr>\n",
       "    <tr>\n",
       "      <th>3219</th>\n",
       "      <td>16742.0</td>\n",
       "      <td>1</td>\n",
       "      <td>0.000019</td>\n",
       "      <td>99.999923</td>\n",
       "    </tr>\n",
       "    <tr>\n",
       "      <th>2558</th>\n",
       "      <td>15823.0</td>\n",
       "      <td>1</td>\n",
       "      <td>0.000019</td>\n",
       "      <td>99.999942</td>\n",
       "    </tr>\n",
       "    <tr>\n",
       "      <th>4098</th>\n",
       "      <td>17956.0</td>\n",
       "      <td>1</td>\n",
       "      <td>0.000019</td>\n",
       "      <td>99.999961</td>\n",
       "    </tr>\n",
       "    <tr>\n",
       "      <th>2540</th>\n",
       "      <td>15802.0</td>\n",
       "      <td>1</td>\n",
       "      <td>0.000019</td>\n",
       "      <td>99.999981</td>\n",
       "    </tr>\n",
       "    <tr>\n",
       "      <th>4013</th>\n",
       "      <td>17846.0</td>\n",
       "      <td>1</td>\n",
       "      <td>0.000019</td>\n",
       "      <td>100.000000</td>\n",
       "    </tr>\n",
       "  </tbody>\n",
       "</table>\n",
       "<p>4338 rows × 4 columns</p>\n",
       "</div>"
      ],
      "text/plain": [
       "      CustomerID  Quantity  share_of_total_2     cum_sum\n",
       "1689     14646.0    196915          3.810413    3.810413\n",
       "3008     16446.0     80997          1.567336    5.377750\n",
       "1879     14911.0     80265          1.553172    6.930922\n",
       "55       12415.0     77374          1.497229    8.428151\n",
       "0        12346.0     74215          1.436101    9.864252\n",
       "...          ...       ...               ...         ...\n",
       "3219     16742.0         1          0.000019   99.999923\n",
       "2558     15823.0         1          0.000019   99.999942\n",
       "4098     17956.0         1          0.000019   99.999961\n",
       "2540     15802.0         1          0.000019   99.999981\n",
       "4013     17846.0         1          0.000019  100.000000\n",
       "\n",
       "[4338 rows x 4 columns]"
      ]
     },
     "execution_count": 143,
     "metadata": {},
     "output_type": "execute_result"
    }
   ],
   "source": [
    "df_xyz"
   ]
  },
  {
   "cell_type": "code",
   "execution_count": 144,
   "id": "ea170195",
   "metadata": {},
   "outputs": [
    {
     "data": {
      "text/plain": [
       "count      4338.000000\n",
       "mean       1191.289073\n",
       "std        5046.081546\n",
       "min           1.000000\n",
       "25%         160.000000\n",
       "50%         379.000000\n",
       "75%         992.750000\n",
       "max      196915.000000\n",
       "Name: Quantity, dtype: float64"
      ]
     },
     "execution_count": 144,
     "metadata": {},
     "output_type": "execute_result"
    }
   ],
   "source": [
    "df_xyz.Quantity.describe()"
   ]
  },
  {
   "cell_type": "code",
   "execution_count": null,
   "id": "58b9412e",
   "metadata": {},
   "outputs": [],
   "source": [
    "df_abc['abc'] = np.where(df_abc['cum_sum']<80, 'A', np.where((df_abc['cum_sum']<95), 'B', 'C'))"
   ]
  },
  {
   "cell_type": "code",
   "execution_count": null,
   "id": "43e30ead",
   "metadata": {},
   "outputs": [],
   "source": []
  },
  {
   "cell_type": "code",
   "execution_count": 122,
   "id": "7ee824b9",
   "metadata": {},
   "outputs": [
    {
     "data": {
      "text/plain": [
       "0.26094974642692487"
      ]
     },
     "execution_count": 122,
     "metadata": {},
     "output_type": "execute_result"
    }
   ],
   "source": [
    "1132/4338"
   ]
  },
  {
   "cell_type": "code",
   "execution_count": 121,
   "id": "1934914b",
   "metadata": {},
   "outputs": [
    {
     "data": {
      "text/plain": [
       "0.33748271092669435"
      ]
     },
     "execution_count": 121,
     "metadata": {},
     "output_type": "execute_result"
    }
   ],
   "source": [
    "1464/4338"
   ]
  },
  {
   "cell_type": "code",
   "execution_count": 120,
   "id": "62d4dec2",
   "metadata": {},
   "outputs": [
    {
     "data": {
      "text/plain": [
       "0.4004149377593361"
      ]
     },
     "execution_count": 120,
     "metadata": {},
     "output_type": "execute_result"
    }
   ],
   "source": [
    "1737/4338"
   ]
  },
  {
   "cell_type": "code",
   "execution_count": null,
   "id": "7d37b794",
   "metadata": {},
   "outputs": [],
   "source": []
  },
  {
   "cell_type": "code",
   "execution_count": null,
   "id": "677eefe1",
   "metadata": {},
   "outputs": [],
   "source": []
  },
  {
   "cell_type": "code",
   "execution_count": 146,
   "id": "400bc939",
   "metadata": {},
   "outputs": [
    {
     "data": {
      "text/html": [
       "<div>\n",
       "<style scoped>\n",
       "    .dataframe tbody tr th:only-of-type {\n",
       "        vertical-align: middle;\n",
       "    }\n",
       "\n",
       "    .dataframe tbody tr th {\n",
       "        vertical-align: top;\n",
       "    }\n",
       "\n",
       "    .dataframe thead th {\n",
       "        text-align: right;\n",
       "    }\n",
       "</style>\n",
       "<table border=\"1\" class=\"dataframe\">\n",
       "  <thead>\n",
       "    <tr style=\"text-align: right;\">\n",
       "      <th></th>\n",
       "      <th>CustomerID</th>\n",
       "      <th>total_sum</th>\n",
       "      <th>share_of_total</th>\n",
       "      <th>cum_sum_x</th>\n",
       "      <th>abc</th>\n",
       "      <th>Quantity</th>\n",
       "      <th>share_of_total_2</th>\n",
       "      <th>cum_sum_y</th>\n",
       "    </tr>\n",
       "  </thead>\n",
       "  <tbody>\n",
       "    <tr>\n",
       "      <th>0</th>\n",
       "      <td>14646.0</td>\n",
       "      <td>280206.02</td>\n",
       "      <td>3.144352</td>\n",
       "      <td>3.144352</td>\n",
       "      <td>A</td>\n",
       "      <td>196915</td>\n",
       "      <td>3.810413</td>\n",
       "      <td>3.810413</td>\n",
       "    </tr>\n",
       "    <tr>\n",
       "      <th>1</th>\n",
       "      <td>18102.0</td>\n",
       "      <td>259657.30</td>\n",
       "      <td>2.913763</td>\n",
       "      <td>6.058115</td>\n",
       "      <td>A</td>\n",
       "      <td>64124</td>\n",
       "      <td>1.240835</td>\n",
       "      <td>13.708548</td>\n",
       "    </tr>\n",
       "    <tr>\n",
       "      <th>2</th>\n",
       "      <td>17450.0</td>\n",
       "      <td>194550.79</td>\n",
       "      <td>2.183166</td>\n",
       "      <td>8.241280</td>\n",
       "      <td>A</td>\n",
       "      <td>69993</td>\n",
       "      <td>1.354403</td>\n",
       "      <td>11.218655</td>\n",
       "    </tr>\n",
       "    <tr>\n",
       "      <th>3</th>\n",
       "      <td>16446.0</td>\n",
       "      <td>168472.50</td>\n",
       "      <td>1.890526</td>\n",
       "      <td>10.131807</td>\n",
       "      <td>A</td>\n",
       "      <td>80997</td>\n",
       "      <td>1.567336</td>\n",
       "      <td>5.377750</td>\n",
       "    </tr>\n",
       "    <tr>\n",
       "      <th>4</th>\n",
       "      <td>14911.0</td>\n",
       "      <td>143825.06</td>\n",
       "      <td>1.613943</td>\n",
       "      <td>11.745750</td>\n",
       "      <td>A</td>\n",
       "      <td>80265</td>\n",
       "      <td>1.553172</td>\n",
       "      <td>6.930922</td>\n",
       "    </tr>\n",
       "    <tr>\n",
       "      <th>...</th>\n",
       "      <td>...</td>\n",
       "      <td>...</td>\n",
       "      <td>...</td>\n",
       "      <td>...</td>\n",
       "      <td>...</td>\n",
       "      <td>...</td>\n",
       "      <td>...</td>\n",
       "      <td>...</td>\n",
       "    </tr>\n",
       "    <tr>\n",
       "      <th>4333</th>\n",
       "      <td>16878.0</td>\n",
       "      <td>13.30</td>\n",
       "      <td>0.000149</td>\n",
       "      <td>99.999668</td>\n",
       "      <td>C</td>\n",
       "      <td>12</td>\n",
       "      <td>0.000232</td>\n",
       "      <td>99.994292</td>\n",
       "    </tr>\n",
       "    <tr>\n",
       "      <th>4334</th>\n",
       "      <td>17956.0</td>\n",
       "      <td>12.75</td>\n",
       "      <td>0.000143</td>\n",
       "      <td>99.999811</td>\n",
       "      <td>C</td>\n",
       "      <td>1</td>\n",
       "      <td>0.000019</td>\n",
       "      <td>99.999961</td>\n",
       "    </tr>\n",
       "    <tr>\n",
       "      <th>4335</th>\n",
       "      <td>16454.0</td>\n",
       "      <td>6.90</td>\n",
       "      <td>0.000077</td>\n",
       "      <td>99.999888</td>\n",
       "      <td>C</td>\n",
       "      <td>3</td>\n",
       "      <td>0.000058</td>\n",
       "      <td>99.999555</td>\n",
       "    </tr>\n",
       "    <tr>\n",
       "      <th>4336</th>\n",
       "      <td>14792.0</td>\n",
       "      <td>6.20</td>\n",
       "      <td>0.000070</td>\n",
       "      <td>99.999958</td>\n",
       "      <td>C</td>\n",
       "      <td>2</td>\n",
       "      <td>0.000039</td>\n",
       "      <td>99.999748</td>\n",
       "    </tr>\n",
       "    <tr>\n",
       "      <th>4337</th>\n",
       "      <td>16738.0</td>\n",
       "      <td>3.75</td>\n",
       "      <td>0.000042</td>\n",
       "      <td>100.000000</td>\n",
       "      <td>C</td>\n",
       "      <td>3</td>\n",
       "      <td>0.000058</td>\n",
       "      <td>99.999671</td>\n",
       "    </tr>\n",
       "  </tbody>\n",
       "</table>\n",
       "<p>4338 rows × 8 columns</p>\n",
       "</div>"
      ],
      "text/plain": [
       "      CustomerID  total_sum  share_of_total   cum_sum_x abc  Quantity  \\\n",
       "0        14646.0  280206.02        3.144352    3.144352   A    196915   \n",
       "1        18102.0  259657.30        2.913763    6.058115   A     64124   \n",
       "2        17450.0  194550.79        2.183166    8.241280   A     69993   \n",
       "3        16446.0  168472.50        1.890526   10.131807   A     80997   \n",
       "4        14911.0  143825.06        1.613943   11.745750   A     80265   \n",
       "...          ...        ...             ...         ...  ..       ...   \n",
       "4333     16878.0      13.30        0.000149   99.999668   C        12   \n",
       "4334     17956.0      12.75        0.000143   99.999811   C         1   \n",
       "4335     16454.0       6.90        0.000077   99.999888   C         3   \n",
       "4336     14792.0       6.20        0.000070   99.999958   C         2   \n",
       "4337     16738.0       3.75        0.000042  100.000000   C         3   \n",
       "\n",
       "      share_of_total_2  cum_sum_y  \n",
       "0             3.810413   3.810413  \n",
       "1             1.240835  13.708548  \n",
       "2             1.354403  11.218655  \n",
       "3             1.567336   5.377750  \n",
       "4             1.553172   6.930922  \n",
       "...                ...        ...  \n",
       "4333          0.000232  99.994292  \n",
       "4334          0.000019  99.999961  \n",
       "4335          0.000058  99.999555  \n",
       "4336          0.000039  99.999748  \n",
       "4337          0.000058  99.999671  \n",
       "\n",
       "[4338 rows x 8 columns]"
      ]
     },
     "execution_count": 146,
     "metadata": {},
     "output_type": "execute_result"
    }
   ],
   "source": [
    "df_abc.merge(df_xyz, how='inner', on='CustomerID')"
   ]
  },
  {
   "cell_type": "code",
   "execution_count": null,
   "id": "715f3b44",
   "metadata": {},
   "outputs": [],
   "source": [
    "pd.crosstab(df.abc, df.xyz)"
   ]
  },
  {
   "cell_type": "code",
   "execution_count": null,
   "id": "1fb22cdc",
   "metadata": {},
   "outputs": [],
   "source": []
  },
  {
   "cell_type": "code",
   "execution_count": null,
   "id": "09743138",
   "metadata": {},
   "outputs": [],
   "source": []
  },
  {
   "cell_type": "code",
   "execution_count": null,
   "id": "acca9612",
   "metadata": {},
   "outputs": [],
   "source": []
  },
  {
   "cell_type": "code",
   "execution_count": null,
   "id": "537d21a5",
   "metadata": {},
   "outputs": [],
   "source": []
  },
  {
   "cell_type": "code",
   "execution_count": null,
   "id": "712827e1",
   "metadata": {},
   "outputs": [],
   "source": []
  },
  {
   "cell_type": "code",
   "execution_count": null,
   "id": "cf1a6f9c",
   "metadata": {},
   "outputs": [],
   "source": []
  },
  {
   "cell_type": "code",
   "execution_count": null,
   "id": "b83ffe1e",
   "metadata": {},
   "outputs": [],
   "source": []
  },
  {
   "cell_type": "code",
   "execution_count": null,
   "id": "568571aa",
   "metadata": {},
   "outputs": [],
   "source": []
  },
  {
   "cell_type": "code",
   "execution_count": null,
   "id": "070240e4",
   "metadata": {},
   "outputs": [],
   "source": []
  },
  {
   "cell_type": "code",
   "execution_count": null,
   "id": "cdb2150a",
   "metadata": {},
   "outputs": [],
   "source": []
  },
  {
   "cell_type": "code",
   "execution_count": null,
   "id": "7790947d",
   "metadata": {},
   "outputs": [],
   "source": []
  },
  {
   "cell_type": "code",
   "execution_count": null,
   "id": "2bcd5afe",
   "metadata": {},
   "outputs": [],
   "source": []
  },
  {
   "cell_type": "code",
   "execution_count": null,
   "id": "62248814",
   "metadata": {},
   "outputs": [],
   "source": []
  },
  {
   "cell_type": "code",
   "execution_count": null,
   "id": "662e0345",
   "metadata": {},
   "outputs": [],
   "source": []
  },
  {
   "cell_type": "code",
   "execution_count": null,
   "id": "66918640",
   "metadata": {},
   "outputs": [],
   "source": []
  },
  {
   "cell_type": "code",
   "execution_count": null,
   "id": "4ea02735",
   "metadata": {},
   "outputs": [],
   "source": []
  },
  {
   "cell_type": "code",
   "execution_count": null,
   "id": "1afec93e",
   "metadata": {},
   "outputs": [],
   "source": []
  },
  {
   "cell_type": "code",
   "execution_count": null,
   "id": "47d2bd91",
   "metadata": {},
   "outputs": [],
   "source": []
  },
  {
   "cell_type": "code",
   "execution_count": null,
   "id": "44d70c96",
   "metadata": {},
   "outputs": [],
   "source": []
  },
  {
   "cell_type": "code",
   "execution_count": null,
   "id": "d4ce9780",
   "metadata": {},
   "outputs": [],
   "source": []
  },
  {
   "cell_type": "code",
   "execution_count": null,
   "id": "0d277bae",
   "metadata": {},
   "outputs": [],
   "source": []
  },
  {
   "cell_type": "code",
   "execution_count": null,
   "id": "e7077911",
   "metadata": {},
   "outputs": [],
   "source": []
  },
  {
   "cell_type": "code",
   "execution_count": null,
   "id": "a516ed6e",
   "metadata": {},
   "outputs": [],
   "source": []
  },
  {
   "cell_type": "code",
   "execution_count": null,
   "id": "64737f6c",
   "metadata": {},
   "outputs": [],
   "source": []
  },
  {
   "cell_type": "code",
   "execution_count": null,
   "id": "c9670b34",
   "metadata": {},
   "outputs": [],
   "source": []
  },
  {
   "cell_type": "code",
   "execution_count": null,
   "id": "a5120738",
   "metadata": {},
   "outputs": [],
   "source": []
  },
  {
   "cell_type": "code",
   "execution_count": null,
   "id": "d42396f9",
   "metadata": {},
   "outputs": [],
   "source": []
  },
  {
   "cell_type": "code",
   "execution_count": null,
   "id": "d24707a5",
   "metadata": {},
   "outputs": [],
   "source": []
  },
  {
   "cell_type": "code",
   "execution_count": 3,
   "id": "7c0b3902",
   "metadata": {},
   "outputs": [],
   "source": [
    "df_orders = pd.read_csv('olist_orders_dataset.csv')\n",
    "df_payments = pd.read_csv('olist_order_payments_dataset.csv')\n"
   ]
  },
  {
   "cell_type": "code",
   "execution_count": 4,
   "id": "e964cf2f",
   "metadata": {},
   "outputs": [
    {
     "data": {
      "text/html": [
       "<div>\n",
       "<style scoped>\n",
       "    .dataframe tbody tr th:only-of-type {\n",
       "        vertical-align: middle;\n",
       "    }\n",
       "\n",
       "    .dataframe tbody tr th {\n",
       "        vertical-align: top;\n",
       "    }\n",
       "\n",
       "    .dataframe thead th {\n",
       "        text-align: right;\n",
       "    }\n",
       "</style>\n",
       "<table border=\"1\" class=\"dataframe\">\n",
       "  <thead>\n",
       "    <tr style=\"text-align: right;\">\n",
       "      <th></th>\n",
       "      <th>order_id</th>\n",
       "      <th>customer_id</th>\n",
       "      <th>order_status</th>\n",
       "      <th>order_purchase_timestamp</th>\n",
       "      <th>order_approved_at</th>\n",
       "      <th>order_delivered_carrier_date</th>\n",
       "      <th>order_delivered_customer_date</th>\n",
       "      <th>order_estimated_delivery_date</th>\n",
       "    </tr>\n",
       "  </thead>\n",
       "  <tbody>\n",
       "    <tr>\n",
       "      <th>0</th>\n",
       "      <td>e481f51cbdc54678b7cc49136f2d6af7</td>\n",
       "      <td>9ef432eb6251297304e76186b10a928d</td>\n",
       "      <td>delivered</td>\n",
       "      <td>2017-10-02 10:56:33</td>\n",
       "      <td>2017-10-02 11:07:15</td>\n",
       "      <td>2017-10-04 19:55:00</td>\n",
       "      <td>2017-10-10 21:25:13</td>\n",
       "      <td>2017-10-18 00:00:00</td>\n",
       "    </tr>\n",
       "    <tr>\n",
       "      <th>1</th>\n",
       "      <td>53cdb2fc8bc7dce0b6741e2150273451</td>\n",
       "      <td>b0830fb4747a6c6d20dea0b8c802d7ef</td>\n",
       "      <td>delivered</td>\n",
       "      <td>2018-07-24 20:41:37</td>\n",
       "      <td>2018-07-26 03:24:27</td>\n",
       "      <td>2018-07-26 14:31:00</td>\n",
       "      <td>2018-08-07 15:27:45</td>\n",
       "      <td>2018-08-13 00:00:00</td>\n",
       "    </tr>\n",
       "    <tr>\n",
       "      <th>2</th>\n",
       "      <td>47770eb9100c2d0c44946d9cf07ec65d</td>\n",
       "      <td>41ce2a54c0b03bf3443c3d931a367089</td>\n",
       "      <td>delivered</td>\n",
       "      <td>2018-08-08 08:38:49</td>\n",
       "      <td>2018-08-08 08:55:23</td>\n",
       "      <td>2018-08-08 13:50:00</td>\n",
       "      <td>2018-08-17 18:06:29</td>\n",
       "      <td>2018-09-04 00:00:00</td>\n",
       "    </tr>\n",
       "    <tr>\n",
       "      <th>3</th>\n",
       "      <td>949d5b44dbf5de918fe9c16f97b45f8a</td>\n",
       "      <td>f88197465ea7920adcdbec7375364d82</td>\n",
       "      <td>delivered</td>\n",
       "      <td>2017-11-18 19:28:06</td>\n",
       "      <td>2017-11-18 19:45:59</td>\n",
       "      <td>2017-11-22 13:39:59</td>\n",
       "      <td>2017-12-02 00:28:42</td>\n",
       "      <td>2017-12-15 00:00:00</td>\n",
       "    </tr>\n",
       "    <tr>\n",
       "      <th>4</th>\n",
       "      <td>ad21c59c0840e6cb83a9ceb5573f8159</td>\n",
       "      <td>8ab97904e6daea8866dbdbc4fb7aad2c</td>\n",
       "      <td>delivered</td>\n",
       "      <td>2018-02-13 21:18:39</td>\n",
       "      <td>2018-02-13 22:20:29</td>\n",
       "      <td>2018-02-14 19:46:34</td>\n",
       "      <td>2018-02-16 18:17:02</td>\n",
       "      <td>2018-02-26 00:00:00</td>\n",
       "    </tr>\n",
       "  </tbody>\n",
       "</table>\n",
       "</div>"
      ],
      "text/plain": [
       "                           order_id                       customer_id  \\\n",
       "0  e481f51cbdc54678b7cc49136f2d6af7  9ef432eb6251297304e76186b10a928d   \n",
       "1  53cdb2fc8bc7dce0b6741e2150273451  b0830fb4747a6c6d20dea0b8c802d7ef   \n",
       "2  47770eb9100c2d0c44946d9cf07ec65d  41ce2a54c0b03bf3443c3d931a367089   \n",
       "3  949d5b44dbf5de918fe9c16f97b45f8a  f88197465ea7920adcdbec7375364d82   \n",
       "4  ad21c59c0840e6cb83a9ceb5573f8159  8ab97904e6daea8866dbdbc4fb7aad2c   \n",
       "\n",
       "  order_status order_purchase_timestamp    order_approved_at  \\\n",
       "0    delivered      2017-10-02 10:56:33  2017-10-02 11:07:15   \n",
       "1    delivered      2018-07-24 20:41:37  2018-07-26 03:24:27   \n",
       "2    delivered      2018-08-08 08:38:49  2018-08-08 08:55:23   \n",
       "3    delivered      2017-11-18 19:28:06  2017-11-18 19:45:59   \n",
       "4    delivered      2018-02-13 21:18:39  2018-02-13 22:20:29   \n",
       "\n",
       "  order_delivered_carrier_date order_delivered_customer_date  \\\n",
       "0          2017-10-04 19:55:00           2017-10-10 21:25:13   \n",
       "1          2018-07-26 14:31:00           2018-08-07 15:27:45   \n",
       "2          2018-08-08 13:50:00           2018-08-17 18:06:29   \n",
       "3          2017-11-22 13:39:59           2017-12-02 00:28:42   \n",
       "4          2018-02-14 19:46:34           2018-02-16 18:17:02   \n",
       "\n",
       "  order_estimated_delivery_date  \n",
       "0           2017-10-18 00:00:00  \n",
       "1           2018-08-13 00:00:00  \n",
       "2           2018-09-04 00:00:00  \n",
       "3           2017-12-15 00:00:00  \n",
       "4           2018-02-26 00:00:00  "
      ]
     },
     "execution_count": 4,
     "metadata": {},
     "output_type": "execute_result"
    }
   ],
   "source": [
    "df_orders.head()"
   ]
  },
  {
   "cell_type": "code",
   "execution_count": 5,
   "id": "07e14c30",
   "metadata": {},
   "outputs": [
    {
     "data": {
      "text/html": [
       "<div>\n",
       "<style scoped>\n",
       "    .dataframe tbody tr th:only-of-type {\n",
       "        vertical-align: middle;\n",
       "    }\n",
       "\n",
       "    .dataframe tbody tr th {\n",
       "        vertical-align: top;\n",
       "    }\n",
       "\n",
       "    .dataframe thead th {\n",
       "        text-align: right;\n",
       "    }\n",
       "</style>\n",
       "<table border=\"1\" class=\"dataframe\">\n",
       "  <thead>\n",
       "    <tr style=\"text-align: right;\">\n",
       "      <th></th>\n",
       "      <th>order_id</th>\n",
       "      <th>payment_sequential</th>\n",
       "      <th>payment_type</th>\n",
       "      <th>payment_installments</th>\n",
       "      <th>payment_value</th>\n",
       "    </tr>\n",
       "  </thead>\n",
       "  <tbody>\n",
       "    <tr>\n",
       "      <th>0</th>\n",
       "      <td>b81ef226f3fe1789b1e8b2acac839d17</td>\n",
       "      <td>1</td>\n",
       "      <td>credit_card</td>\n",
       "      <td>8</td>\n",
       "      <td>99.33</td>\n",
       "    </tr>\n",
       "    <tr>\n",
       "      <th>1</th>\n",
       "      <td>a9810da82917af2d9aefd1278f1dcfa0</td>\n",
       "      <td>1</td>\n",
       "      <td>credit_card</td>\n",
       "      <td>1</td>\n",
       "      <td>24.39</td>\n",
       "    </tr>\n",
       "    <tr>\n",
       "      <th>2</th>\n",
       "      <td>25e8ea4e93396b6fa0d3dd708e76c1bd</td>\n",
       "      <td>1</td>\n",
       "      <td>credit_card</td>\n",
       "      <td>1</td>\n",
       "      <td>65.71</td>\n",
       "    </tr>\n",
       "    <tr>\n",
       "      <th>3</th>\n",
       "      <td>ba78997921bbcdc1373bb41e913ab953</td>\n",
       "      <td>1</td>\n",
       "      <td>credit_card</td>\n",
       "      <td>8</td>\n",
       "      <td>107.78</td>\n",
       "    </tr>\n",
       "    <tr>\n",
       "      <th>4</th>\n",
       "      <td>42fdf880ba16b47b59251dd489d4441a</td>\n",
       "      <td>1</td>\n",
       "      <td>credit_card</td>\n",
       "      <td>2</td>\n",
       "      <td>128.45</td>\n",
       "    </tr>\n",
       "  </tbody>\n",
       "</table>\n",
       "</div>"
      ],
      "text/plain": [
       "                           order_id  payment_sequential payment_type  \\\n",
       "0  b81ef226f3fe1789b1e8b2acac839d17                   1  credit_card   \n",
       "1  a9810da82917af2d9aefd1278f1dcfa0                   1  credit_card   \n",
       "2  25e8ea4e93396b6fa0d3dd708e76c1bd                   1  credit_card   \n",
       "3  ba78997921bbcdc1373bb41e913ab953                   1  credit_card   \n",
       "4  42fdf880ba16b47b59251dd489d4441a                   1  credit_card   \n",
       "\n",
       "   payment_installments  payment_value  \n",
       "0                     8          99.33  \n",
       "1                     1          24.39  \n",
       "2                     1          65.71  \n",
       "3                     8         107.78  \n",
       "4                     2         128.45  "
      ]
     },
     "execution_count": 5,
     "metadata": {},
     "output_type": "execute_result"
    }
   ],
   "source": [
    "df_payments.head()"
   ]
  },
  {
   "cell_type": "code",
   "execution_count": 8,
   "id": "bf5873c6",
   "metadata": {},
   "outputs": [],
   "source": [
    "df_orders['order_delivered_carrier_date'] = pd.to_datetime(df_orders['order_delivered_carrier_date'])\n",
    "df_payments = df_payments.set_index('order_id')\n",
    "df_orders = df_orders.set_index('order_id')\n",
    "order_payment = df_orders.join(df_payments)"
   ]
  },
  {
   "cell_type": "code",
   "execution_count": 13,
   "id": "c1404be6",
   "metadata": {},
   "outputs": [],
   "source": [
    "last_date = order_payment['order_delivered_carrier_date'].max()\n",
    "rfmTable = order_payment.reset_index().groupby('customer_id').agg({'order_delivered_carrier_date': lambda x: (last_date - x.max()).days,\n",
    "                                                 'order_id': lambda x: len(x), \n",
    "                                                 'payment_value': lambda x: x.sum()})\n",
    "rfmTable.rename(columns={'order_delivered_carrier_date': 'recency', \n",
    "                          'order_id': 'frequency', \n",
    "                          'payment_value': 'monetary_value'}, inplace=True)"
   ]
  },
  {
   "cell_type": "code",
   "execution_count": 15,
   "id": "24d8bbe4",
   "metadata": {},
   "outputs": [],
   "source": [
    "quantiles = rfmTable.quantile(q=[0.20, 0.40, 0.60, 0.80])\n",
    "quantiles = quantiles.to_dict()\n",
    "segmented_rfm = rfmTable"
   ]
  },
  {
   "cell_type": "code",
   "execution_count": 16,
   "id": "d24ae412",
   "metadata": {},
   "outputs": [
    {
     "name": "stdout",
     "output_type": "stream",
     "text": [
      "                                  recency  frequency  monetary_value  \\\n",
      "customer_id                                                            \n",
      "00012a2ce6f8dcda20d059ce98491703    298.0          1          114.74   \n",
      "000161a058600d5901f007fab4c27140    419.0          1           67.41   \n",
      "0001fd6190edaaf884bcaf3d49edf079    559.0          1          195.42   \n",
      "0002414f95344307404f0ace7a26f1d5    388.0          1          179.35   \n",
      "000379cdec625522490c315e70c7a9fb    160.0          1          107.01   \n",
      "\n",
      "                                  r_quartile  f_quartile  m_quartile RFMScore  \n",
      "customer_id                                                                    \n",
      "00012a2ce6f8dcda20d059ce98491703           4           1           3      413  \n",
      "000161a058600d5901f007fab4c27140           5           1           2      512  \n",
      "0001fd6190edaaf884bcaf3d49edf079           5           1           4      514  \n",
      "0002414f95344307404f0ace7a26f1d5           4           1           4      414  \n",
      "000379cdec625522490c315e70c7a9fb           2           1           3      213  \n"
     ]
    }
   ],
   "source": [
    "def RScore(x,p,d):\n",
    "     if x <= d[p][0.20]:\n",
    "         return 1\n",
    "     elif x <= d[p][0.40]:\n",
    "         return 2\n",
    "     elif x <= d[p][0.60]: \n",
    "         return 3\n",
    "     elif x<=d[p][0.80]:\n",
    "         return 4\n",
    "     else:\n",
    "         return 5\n",
    "\n",
    "segmented_rfm['r_quartile'] = segmented_rfm['recency'].apply(RScore, args=('recency',quantiles,))\n",
    "segmented_rfm['f_quartile'] = segmented_rfm['frequency'].apply(RScore, args=('frequency',quantiles,))\n",
    "segmented_rfm['m_quartile'] = segmented_rfm['monetary_value'].apply(RScore, args=('monetary_value',quantiles,))\n",
    "segmented_rfm['RFMScore'] = segmented_rfm.r_quartile.map(str) + segmented_rfm.f_quartile.map(str) + segmented_rfm.m_quartile.map(str)\n",
    "print(segmented_rfm.head())"
   ]
  },
  {
   "cell_type": "code",
   "execution_count": 18,
   "id": "8f28cdba",
   "metadata": {},
   "outputs": [
    {
     "data": {
      "image/png": "[encoded data removed]",
      "text/plain": [
       "<Figure size 1440x1280 with 1 Axes>"
      ]
     },
     "metadata": {},
     "output_type": "display_data"
    }
   ],
   "source": [
    "fig=plt.figure(figsize=(18, 16), dpi= 80, facecolor='w', edgecolor='k')\n",
    "segmented_rfm.groupby('RFMScore').agg('recency').mean().plot(kind='bar', colormap='Blues_r')\n",
    "plt.show()"
   ]
  },
  {
   "cell_type": "markdown",
   "id": "209517c4",
   "metadata": {},
   "source": [
    "Цель RFM анализа сформировать сегменты и в зависимости от сегмента воздействовать на них определенным образом. Например: предложить бонус, льготу, отправить push или email уведомление. Важно делать это таргетировано.\n",
    "\n",
    "Эффект от использования RFM анализа может быть следующим: удержание клиентов, повышение дохода, повышение лояльность клиентов.\n",
    "\n",
    "Примеры интерпретации сегментов RFM анализа:\n",
    "\n",
    "R=5, F=5, M=5 — платят чаcто, много и недавно. Самые лояльным и активные пользователи.\n",
    "R=1, F=1, M=1 — платят мало, редко и давно. Скорее всего потерянные клиенты. Возможно не стоит предпринять действия по их возврату, если цена привлечения выше ожидаемой прибыли.\n",
    "R=1/2, F=4/5, M=4/5 — лояльные пользователи на грани ухода. Предлагаем им бонус, скидку и пытаемся их вернуть.\n",
    "R=4/5, F=1, M=1/2/3/4/5 — пользователи недавно совершили платеж. Пробуем их стимулировать покупать еще."
   ]
  },
  {
   "cell_type": "code",
   "execution_count": null,
   "id": "ac6fca61",
   "metadata": {},
   "outputs": [],
   "source": []
  },
  {
   "cell_type": "code",
   "execution_count": null,
   "id": "c51c0b1e",
   "metadata": {},
   "outputs": [],
   "source": []
  }
 ],
 "metadata": {
  "kernelspec": {
   "display_name": "Python 3 (ipykernel)",
   "language": "python",
   "name": "python3"
  },
  "language_info": {
   "codemirror_mode": {
    "name": "ipython",
    "version": 3
   },
   "file_extension": ".py",
   "mimetype": "text/x-python",
   "name": "python",
   "nbconvert_exporter": "python",
   "pygments_lexer": "ipython3",
   "version": "3.9.4"
  }
 },
 "nbformat": 4,
 "nbformat_minor": 5
}
